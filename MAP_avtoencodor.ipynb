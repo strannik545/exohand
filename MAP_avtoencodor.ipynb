{
 "cells": [
  {
   "cell_type": "code",
   "execution_count": 1,
   "id": "fda99500",
   "metadata": {
    "scrolled": true
   },
   "outputs": [],
   "source": [
    "import numpy as np\n",
    "import pandas as pd\n",
    "# from tqdm import tqdm_notebook\n",
    "import tqdm\n",
    "from sklearn.model_selection import train_test_split\n",
    "\n",
    "import torch\n",
    "import torch.nn as nn\n",
    "import torch.nn.functional as F\n",
    "from torch.utils.data import Dataset, DataLoader, TensorDataset\n",
    "from matplotlib import pyplot as plt\n",
    "# import librosa\n",
    "# import librosa.display"
   ]
  },
  {
   "cell_type": "markdown",
   "id": "97c435bf",
   "metadata": {},
   "source": [
    "## Загрузка данных"
   ]
  },
  {
   "cell_type": "code",
   "execution_count": 2,
   "id": "918c8b23",
   "metadata": {},
   "outputs": [],
   "source": [
    "col_names = ['time', 'emg_1', 'emg_2', 'emg_3', 'emg_4', 'emg_5', 'emg_6', 'pot_1', 'pot_2', 'pot_3']\n",
    "data = pd.read_csv('V_free_sgib_rasg_fast_NEW.csv', sep=';', header=None, names=col_names)"
   ]
  },
  {
   "cell_type": "code",
   "execution_count": 3,
   "id": "89c01a52",
   "metadata": {},
   "outputs": [
    {
     "data": {
      "text/html": [
       "<div>\n",
       "<style scoped>\n",
       "    .dataframe tbody tr th:only-of-type {\n",
       "        vertical-align: middle;\n",
       "    }\n",
       "\n",
       "    .dataframe tbody tr th {\n",
       "        vertical-align: top;\n",
       "    }\n",
       "\n",
       "    .dataframe thead th {\n",
       "        text-align: right;\n",
       "    }\n",
       "</style>\n",
       "<table border=\"1\" class=\"dataframe\">\n",
       "  <thead>\n",
       "    <tr style=\"text-align: right;\">\n",
       "      <th></th>\n",
       "      <th>time</th>\n",
       "      <th>emg_1</th>\n",
       "      <th>emg_2</th>\n",
       "      <th>emg_3</th>\n",
       "      <th>emg_4</th>\n",
       "      <th>emg_5</th>\n",
       "      <th>emg_6</th>\n",
       "      <th>pot_1</th>\n",
       "      <th>pot_2</th>\n",
       "      <th>pot_3</th>\n",
       "    </tr>\n",
       "  </thead>\n",
       "  <tbody>\n",
       "    <tr>\n",
       "      <th>0</th>\n",
       "      <td>0.00</td>\n",
       "      <td>1650.81</td>\n",
       "      <td>1676.60</td>\n",
       "      <td>1676.60</td>\n",
       "      <td>1676.60</td>\n",
       "      <td>1676.60</td>\n",
       "      <td>1676.60</td>\n",
       "      <td>154.85</td>\n",
       "      <td>102.54</td>\n",
       "      <td>104.00</td>\n",
       "    </tr>\n",
       "    <tr>\n",
       "      <th>1</th>\n",
       "      <td>0.00</td>\n",
       "      <td>1654.03</td>\n",
       "      <td>1650.81</td>\n",
       "      <td>1650.81</td>\n",
       "      <td>1650.81</td>\n",
       "      <td>1650.81</td>\n",
       "      <td>1650.81</td>\n",
       "      <td>154.85</td>\n",
       "      <td>102.54</td>\n",
       "      <td>104.00</td>\n",
       "    </tr>\n",
       "    <tr>\n",
       "      <th>2</th>\n",
       "      <td>0.01</td>\n",
       "      <td>1657.25</td>\n",
       "      <td>1615.34</td>\n",
       "      <td>1615.34</td>\n",
       "      <td>1615.34</td>\n",
       "      <td>1615.34</td>\n",
       "      <td>1615.34</td>\n",
       "      <td>154.85</td>\n",
       "      <td>102.54</td>\n",
       "      <td>104.00</td>\n",
       "    </tr>\n",
       "    <tr>\n",
       "      <th>3</th>\n",
       "      <td>0.01</td>\n",
       "      <td>1654.03</td>\n",
       "      <td>1573.42</td>\n",
       "      <td>1573.42</td>\n",
       "      <td>1573.42</td>\n",
       "      <td>1573.42</td>\n",
       "      <td>1573.42</td>\n",
       "      <td>154.85</td>\n",
       "      <td>102.54</td>\n",
       "      <td>104.00</td>\n",
       "    </tr>\n",
       "    <tr>\n",
       "      <th>4</th>\n",
       "      <td>0.01</td>\n",
       "      <td>1650.81</td>\n",
       "      <td>1554.08</td>\n",
       "      <td>1554.08</td>\n",
       "      <td>1554.08</td>\n",
       "      <td>1554.08</td>\n",
       "      <td>1554.08</td>\n",
       "      <td>154.85</td>\n",
       "      <td>102.54</td>\n",
       "      <td>104.00</td>\n",
       "    </tr>\n",
       "    <tr>\n",
       "      <th>...</th>\n",
       "      <td>...</td>\n",
       "      <td>...</td>\n",
       "      <td>...</td>\n",
       "      <td>...</td>\n",
       "      <td>...</td>\n",
       "      <td>...</td>\n",
       "      <td>...</td>\n",
       "      <td>...</td>\n",
       "      <td>...</td>\n",
       "      <td>...</td>\n",
       "    </tr>\n",
       "    <tr>\n",
       "      <th>25995</th>\n",
       "      <td>51.99</td>\n",
       "      <td>1628.24</td>\n",
       "      <td>1647.58</td>\n",
       "      <td>1647.58</td>\n",
       "      <td>1647.58</td>\n",
       "      <td>1647.58</td>\n",
       "      <td>1647.58</td>\n",
       "      <td>29.56</td>\n",
       "      <td>18.46</td>\n",
       "      <td>18.16</td>\n",
       "    </tr>\n",
       "    <tr>\n",
       "      <th>25996</th>\n",
       "      <td>51.99</td>\n",
       "      <td>1625.01</td>\n",
       "      <td>1647.58</td>\n",
       "      <td>1647.58</td>\n",
       "      <td>1647.58</td>\n",
       "      <td>1647.58</td>\n",
       "      <td>1647.58</td>\n",
       "      <td>29.56</td>\n",
       "      <td>18.46</td>\n",
       "      <td>18.16</td>\n",
       "    </tr>\n",
       "    <tr>\n",
       "      <th>25997</th>\n",
       "      <td>52.00</td>\n",
       "      <td>1637.91</td>\n",
       "      <td>1654.03</td>\n",
       "      <td>1654.03</td>\n",
       "      <td>1654.03</td>\n",
       "      <td>1654.03</td>\n",
       "      <td>1654.03</td>\n",
       "      <td>29.56</td>\n",
       "      <td>18.46</td>\n",
       "      <td>18.16</td>\n",
       "    </tr>\n",
       "    <tr>\n",
       "      <th>25998</th>\n",
       "      <td>52.00</td>\n",
       "      <td>1631.46</td>\n",
       "      <td>1660.48</td>\n",
       "      <td>1660.48</td>\n",
       "      <td>1660.48</td>\n",
       "      <td>1660.48</td>\n",
       "      <td>1660.48</td>\n",
       "      <td>29.56</td>\n",
       "      <td>18.46</td>\n",
       "      <td>18.16</td>\n",
       "    </tr>\n",
       "    <tr>\n",
       "      <th>25999</th>\n",
       "      <td>52.00</td>\n",
       "      <td>1644.36</td>\n",
       "      <td>1657.25</td>\n",
       "      <td>1657.25</td>\n",
       "      <td>1657.25</td>\n",
       "      <td>1657.25</td>\n",
       "      <td>1657.25</td>\n",
       "      <td>29.56</td>\n",
       "      <td>18.46</td>\n",
       "      <td>18.16</td>\n",
       "    </tr>\n",
       "  </tbody>\n",
       "</table>\n",
       "<p>26000 rows × 10 columns</p>\n",
       "</div>"
      ],
      "text/plain": [
       "        time    emg_1    emg_2    emg_3    emg_4    emg_5    emg_6   pot_1  \\\n",
       "0       0.00  1650.81  1676.60  1676.60  1676.60  1676.60  1676.60  154.85   \n",
       "1       0.00  1654.03  1650.81  1650.81  1650.81  1650.81  1650.81  154.85   \n",
       "2       0.01  1657.25  1615.34  1615.34  1615.34  1615.34  1615.34  154.85   \n",
       "3       0.01  1654.03  1573.42  1573.42  1573.42  1573.42  1573.42  154.85   \n",
       "4       0.01  1650.81  1554.08  1554.08  1554.08  1554.08  1554.08  154.85   \n",
       "...      ...      ...      ...      ...      ...      ...      ...     ...   \n",
       "25995  51.99  1628.24  1647.58  1647.58  1647.58  1647.58  1647.58   29.56   \n",
       "25996  51.99  1625.01  1647.58  1647.58  1647.58  1647.58  1647.58   29.56   \n",
       "25997  52.00  1637.91  1654.03  1654.03  1654.03  1654.03  1654.03   29.56   \n",
       "25998  52.00  1631.46  1660.48  1660.48  1660.48  1660.48  1660.48   29.56   \n",
       "25999  52.00  1644.36  1657.25  1657.25  1657.25  1657.25  1657.25   29.56   \n",
       "\n",
       "        pot_2   pot_3  \n",
       "0      102.54  104.00  \n",
       "1      102.54  104.00  \n",
       "2      102.54  104.00  \n",
       "3      102.54  104.00  \n",
       "4      102.54  104.00  \n",
       "...       ...     ...  \n",
       "25995   18.46   18.16  \n",
       "25996   18.46   18.16  \n",
       "25997   18.46   18.16  \n",
       "25998   18.46   18.16  \n",
       "25999   18.46   18.16  \n",
       "\n",
       "[26000 rows x 10 columns]"
      ]
     },
     "execution_count": 3,
     "metadata": {},
     "output_type": "execute_result"
    }
   ],
   "source": [
    "data = data[:26000]\n",
    "data"
   ]
  },
  {
   "cell_type": "code",
   "execution_count": 4,
   "id": "b62ad195",
   "metadata": {},
   "outputs": [],
   "source": [
    "data[['pot_2', 'pot_3']] = data[['pot_2', 'pot_3']].astype(float)"
   ]
  },
  {
   "cell_type": "code",
   "execution_count": 5,
   "id": "8fdc6e04",
   "metadata": {},
   "outputs": [
    {
     "data": {
      "text/plain": [
       "time     float64\n",
       "emg_1    float64\n",
       "emg_2    float64\n",
       "emg_3    float64\n",
       "emg_4    float64\n",
       "emg_5    float64\n",
       "emg_6    float64\n",
       "pot_1    float64\n",
       "pot_2    float64\n",
       "pot_3    float64\n",
       "dtype: object"
      ]
     },
     "execution_count": 5,
     "metadata": {},
     "output_type": "execute_result"
    }
   ],
   "source": [
    "data.dtypes"
   ]
  },
  {
   "cell_type": "markdown",
   "id": "fa00673f",
   "metadata": {},
   "source": [
    "# Data preprocessing"
   ]
  },
  {
   "cell_type": "markdown",
   "id": "b53c4c04",
   "metadata": {},
   "source": [
    "Нормализация"
   ]
  },
  {
   "cell_type": "code",
   "execution_count": 6,
   "id": "a9fef5d7",
   "metadata": {},
   "outputs": [],
   "source": [
    "data = (data - data.mean()) / data.std()"
   ]
  },
  {
   "cell_type": "markdown",
   "id": "3f035c5c",
   "metadata": {},
   "source": [
    "Чистим данные"
   ]
  },
  {
   "cell_type": "code",
   "execution_count": 7,
   "id": "4ce66069",
   "metadata": {},
   "outputs": [
    {
     "data": {
      "text/html": [
       "<div>\n",
       "<style scoped>\n",
       "    .dataframe tbody tr th:only-of-type {\n",
       "        vertical-align: middle;\n",
       "    }\n",
       "\n",
       "    .dataframe tbody tr th {\n",
       "        vertical-align: top;\n",
       "    }\n",
       "\n",
       "    .dataframe thead th {\n",
       "        text-align: right;\n",
       "    }\n",
       "</style>\n",
       "<table border=\"1\" class=\"dataframe\">\n",
       "  <thead>\n",
       "    <tr style=\"text-align: right;\">\n",
       "      <th></th>\n",
       "      <th>emg_1</th>\n",
       "      <th>emg_2</th>\n",
       "      <th>pot_1</th>\n",
       "    </tr>\n",
       "  </thead>\n",
       "  <tbody>\n",
       "    <tr>\n",
       "      <th>0</th>\n",
       "      <td>0.063537</td>\n",
       "      <td>0.154306</td>\n",
       "      <td>1.022798</td>\n",
       "    </tr>\n",
       "    <tr>\n",
       "      <th>1</th>\n",
       "      <td>0.236421</td>\n",
       "      <td>0.006507</td>\n",
       "      <td>1.022798</td>\n",
       "    </tr>\n",
       "    <tr>\n",
       "      <th>2</th>\n",
       "      <td>0.409305</td>\n",
       "      <td>-0.196766</td>\n",
       "      <td>1.022798</td>\n",
       "    </tr>\n",
       "    <tr>\n",
       "      <th>3</th>\n",
       "      <td>0.236421</td>\n",
       "      <td>-0.437003</td>\n",
       "      <td>1.022798</td>\n",
       "    </tr>\n",
       "    <tr>\n",
       "      <th>4</th>\n",
       "      <td>0.063537</td>\n",
       "      <td>-0.547838</td>\n",
       "      <td>1.022798</td>\n",
       "    </tr>\n",
       "    <tr>\n",
       "      <th>...</th>\n",
       "      <td>...</td>\n",
       "      <td>...</td>\n",
       "      <td>...</td>\n",
       "    </tr>\n",
       "    <tr>\n",
       "      <th>25995</th>\n",
       "      <td>-1.148262</td>\n",
       "      <td>-0.012003</td>\n",
       "      <td>-1.417608</td>\n",
       "    </tr>\n",
       "    <tr>\n",
       "      <th>25996</th>\n",
       "      <td>-1.321682</td>\n",
       "      <td>-0.012003</td>\n",
       "      <td>-1.417608</td>\n",
       "    </tr>\n",
       "    <tr>\n",
       "      <th>25997</th>\n",
       "      <td>-0.629073</td>\n",
       "      <td>0.024960</td>\n",
       "      <td>-1.417608</td>\n",
       "    </tr>\n",
       "    <tr>\n",
       "      <th>25998</th>\n",
       "      <td>-0.975378</td>\n",
       "      <td>0.061924</td>\n",
       "      <td>-1.417608</td>\n",
       "    </tr>\n",
       "    <tr>\n",
       "      <th>25999</th>\n",
       "      <td>-0.282768</td>\n",
       "      <td>0.043414</td>\n",
       "      <td>-1.417608</td>\n",
       "    </tr>\n",
       "  </tbody>\n",
       "</table>\n",
       "<p>26000 rows × 3 columns</p>\n",
       "</div>"
      ],
      "text/plain": [
       "          emg_1     emg_2     pot_1\n",
       "0      0.063537  0.154306  1.022798\n",
       "1      0.236421  0.006507  1.022798\n",
       "2      0.409305 -0.196766  1.022798\n",
       "3      0.236421 -0.437003  1.022798\n",
       "4      0.063537 -0.547838  1.022798\n",
       "...         ...       ...       ...\n",
       "25995 -1.148262 -0.012003 -1.417608\n",
       "25996 -1.321682 -0.012003 -1.417608\n",
       "25997 -0.629073  0.024960 -1.417608\n",
       "25998 -0.975378  0.061924 -1.417608\n",
       "25999 -0.282768  0.043414 -1.417608\n",
       "\n",
       "[26000 rows x 3 columns]"
      ]
     },
     "execution_count": 7,
     "metadata": {},
     "output_type": "execute_result"
    }
   ],
   "source": [
    "data = data[['emg_1', 'emg_2', 'pot_1']]\n",
    "data"
   ]
  },
  {
   "cell_type": "markdown",
   "id": "d75ba1c4",
   "metadata": {},
   "source": [
    "Создание датасета"
   ]
  },
  {
   "cell_type": "code",
   "execution_count": 8,
   "id": "ab157eb8",
   "metadata": {},
   "outputs": [
    {
     "name": "stdout",
     "output_type": "stream",
     "text": [
      "26000\n",
      "Training x input shape:  torch.Size([467, 3, 50])\n",
      "Training y input shape:  torch.Size([467, 3, 50])\n"
     ]
    },
    {
     "name": "stderr",
     "output_type": "stream",
     "text": [
      "<ipython-input-8-637a029842ae>:12: UserWarning: Creating a tensor from a list of numpy.ndarrays is extremely slow. Please consider converting the list to a single numpy.ndarray with numpy.array() before converting to a tensor. (Triggered internally at  C:\\cb\\pytorch_1000000000000\\work\\torch\\csrc\\utils\\tensor_new.cpp:210.)\n",
      "  return torch.FloatTensor(X_output).permute(0, 2, 1), torch.FloatTensor(Y_output).permute(0, 2, 1)\n"
     ]
    }
   ],
   "source": [
    "x_size = 50\n",
    "y_size = 50\n",
    "\n",
    "def create_sequences(values, x_size, y_size):\n",
    "    print(len(values))\n",
    "    X_output = []\n",
    "    Y_output = []\n",
    "    for i in range(0, len(values)-y_size, x_size): # + y_size\n",
    "        X_output.append(values[i : (i + x_size)])\n",
    "        Y_output.append(values[(i + x_size) : (i + x_size + y_size)])\n",
    "#     print(len(X_output[0]), len(Y_output[519]))\n",
    "    return torch.FloatTensor(X_output).permute(0, 2, 1), torch.FloatTensor(Y_output).permute(0, 2, 1)\n",
    "#     return torch.from_numpy(np.array(X_output)).to(torch.float32).permute(0, 2, 1), torch.from_numpy(np.array(Y_output)).to(torch.float32).permute(0, 2, 1)\n",
    "\n",
    "\n",
    "X, Y = create_sequences(data.values, x_size, y_size)\n",
    "x_train, x_val, y_train, y_val = train_test_split(X, Y, test_size=0.1, shuffle=False)\n",
    "print(\"Training x input shape: \", x_train.shape)\n",
    "print(\"Training y input shape: \", y_train.shape)\n",
    "train_dataset = TensorDataset(x_train, y_train)\n",
    "val_dataset = TensorDataset(x_val, y_val)\n",
    "train_loader = DataLoader(train_dataset, batch_size=6, shuffle=False)\n",
    "val_loader = DataLoader(val_dataset, batch_size=6, shuffle=False)"
   ]
  },
  {
   "cell_type": "code",
   "execution_count": 9,
   "id": "d7fb6bc1",
   "metadata": {},
   "outputs": [
    {
     "data": {
      "text/plain": [
       "[<matplotlib.lines.Line2D at 0x20362239040>]"
      ]
     },
     "execution_count": 9,
     "metadata": {},
     "output_type": "execute_result"
    },
    {
     "data": {
      "image/png": "[encoded data removed]",
      "text/plain": [
       "<Figure size 432x288 with 1 Axes>"
      ]
     },
     "metadata": {
      "needs_background": "light"
     },
     "output_type": "display_data"
    }
   ],
   "source": [
    "plt.plot(y_train[100,2,:])"
   ]
  },
  {
   "cell_type": "markdown",
   "id": "3461121c",
   "metadata": {},
   "source": [
    "Построение модели"
   ]
  },
  {
   "cell_type": "code",
   "execution_count": 10,
   "id": "3989815c",
   "metadata": {},
   "outputs": [],
   "source": [
    "# # without spectrogram\n",
    "# class Autoencoder(torch.nn.Module):\n",
    "#     def __init__(self):\n",
    "#         super().__init__()\n",
    "#         self.encoder = nn.Sequential(\n",
    "#             nn.Conv1d(3, 32, kernel_size=7, stride=1, padding=3),\n",
    "#             nn.BatchNorm1d(32),\n",
    "#             nn.ReLU(),\n",
    "#             nn.Conv1d(32, 64, kernel_size=7, stride=1, padding=3),\n",
    "#             nn.BatchNorm1d(64),\n",
    "#             nn.ReLU(),\n",
    "#             nn.Conv1d(64, 16, kernel_size=7, stride=1, padding=3),\n",
    "#             nn.BatchNorm1d(16),\n",
    "#             nn.ReLU(),\n",
    "#         )\n",
    "#         self.decoder = nn.Sequential(\n",
    "#             nn.ConvTranspose1d(16, 16, kernel_size=7, stride=1, padding=3),\n",
    "#             nn.BatchNorm1d(16),\n",
    "#             nn.ReLU(),\n",
    "#             nn.Dropout(0.2),\n",
    "#             nn.ConvTranspose1d(16, 32, kernel_size=7, stride=1, padding=3),\n",
    "#             nn.BatchNorm1d(32),\n",
    "#             nn.ReLU(),\n",
    "#             nn.ConvTranspose1d(32, 3, kernel_size=7, stride=1, padding=3),\n",
    "# #             nn.Linear\n",
    "#         )\n",
    "#     def forward(self, sample):\n",
    "#         latent = self.encoder(sample)\n",
    "#         reconstructed = self.decoder(latent)\n",
    "#         return reconstructed"
   ]
  },
  {
   "cell_type": "code",
   "execution_count": 11,
   "id": "6be4a961",
   "metadata": {},
   "outputs": [],
   "source": [
    "# with spectrogram\n",
    "class Autoencoder(torch.nn.Module):\n",
    "    def __init__(self):\n",
    "        super().__init__()\n",
    "        self.encoder = nn.Sequential(\n",
    "            nn.Conv1d(3,32, kernel_size=7, stride=1, padding=3),\n",
    "            nn.BatchNorm1d(32),\n",
    "            nn.ReLU(),\n",
    "            nn.Conv1d(32, 64, kernel_size=7, stride=1, padding=3),\n",
    "            nn.BatchNorm1d(64),\n",
    "            nn.ReLU(),\n",
    "            nn.Conv1d(64, 32, kernel_size=7, stride=1, padding=3),\n",
    "            nn.BatchNorm1d(32),\n",
    "            nn.ReLU(),\n",
    "            nn.Conv1d(32, 16, kernel_size=7, stride=1, padding=3),\n",
    "            nn.BatchNorm1d(16),\n",
    "            nn.ReLU(),\n",
    "        )\n",
    "        self.decoder = nn.Sequential(\n",
    "            nn.ConvTranspose1d(16, 16, kernel_size=7, stride=1, padding=3),\n",
    "            nn.BatchNorm1d(16),\n",
    "            nn.ReLU(),\n",
    "            nn.Dropout(0.2),\n",
    "            nn.ConvTranspose1d(16, 32, kernel_size=7, stride=1, padding=3),\n",
    "            nn.BatchNorm1d(32),\n",
    "            nn.ReLU(),\n",
    "            nn.Dropout(0.2),\n",
    "            nn.ConvTranspose1d(32, 64, kernel_size=7, stride=1, padding=3),\n",
    "            nn.BatchNorm1d(64),\n",
    "            nn.ReLU())\n",
    "        self.FCN = nn.Sequential(\n",
    "            nn.Linear(in_features=3200, out_features=512),\n",
    "            nn.ReLU(),\n",
    "            nn.Linear(in_features=512, out_features=50),\n",
    "#             nn.ReLU(),\n",
    "#             nn.Linear(in_features=128, out_features=50)\n",
    "        )\n",
    "#             nn.ReLU(),\n",
    "#             nn.Linear(in_features=256, out_features=128),\n",
    "#             nn.ReLU(),\n",
    "#             nn.Linear(in_features=128, out_features=50),\n",
    "    def forward(self, sample):\n",
    "        latent = self.encoder(sample)\n",
    "        x = self.decoder(latent)\n",
    "        x = x.view(x.shape[0],-1)\n",
    "#         print(x.shape)\n",
    "        res = self.FCN(x)\n",
    "        return res"
   ]
  },
  {
   "cell_type": "markdown",
   "id": "738a601d",
   "metadata": {},
   "source": [
    "Обучение"
   ]
  },
  {
   "cell_type": "code",
   "execution_count": 12,
   "id": "85bf44d7",
   "metadata": {
    "scrolled": false
   },
   "outputs": [
    {
     "data": {
      "application/vnd.jupyter.widget-view+json": {
       "model_id": "fed325947ebf4057a2715b5753805b5f",
       "version_major": 2,
       "version_minor": 0
      },
      "text/plain": [
       "  0%|          | 0/100 [00:00<?, ?it/s]"
      ]
     },
     "metadata": {},
     "output_type": "display_data"
    }
   ],
   "source": [
    "n_epochs = 100\n",
    "device = 'cuda:0' if torch.cuda.is_available() else 'cpu'\n",
    "\n",
    "model = Autoencoder().to(device)\n",
    "optimizer = torch.optim.Adam(model.parameters(), lr=0.001)\n",
    "loss_fn = F.mse_loss\n",
    "train_losses = []\n",
    "val_losses = []\n",
    "i = 0\n",
    "for epoch in tqdm.notebook.tqdm(range(n_epochs)):\n",
    "    model.train()\n",
    "    train_losses_per_epoch = []\n",
    "    for X_batch, Y_batch in train_loader:\n",
    "        optimizer.zero_grad()\n",
    "#         print(i)\n",
    "        reconstructed = model(X_batch.to(device))\n",
    "        loss = loss_fn(reconstructed, Y_batch[:,2,:].to(device))\n",
    "        loss.backward()\n",
    "        optimizer.step()\n",
    "        train_losses_per_epoch.append(loss.item())\n",
    "        i+=1\n",
    "    train_losses.append(np.mean(train_losses_per_epoch))\n",
    "\n",
    "    model.eval()\n",
    "    val_losses_per_epoch = []\n",
    "    with torch.no_grad():\n",
    "        for X_batch, Y_batch in val_loader:\n",
    "            reconstructed = model(X_batch.to(device))\n",
    "            loss = loss_fn(reconstructed, Y_batch[:,2,:].to(device))\n",
    "            val_losses_per_epoch.append(loss.item())\n",
    "\n",
    "    val_losses.append(np.mean(val_losses_per_epoch))\n"
   ]
  },
  {
   "cell_type": "code",
   "execution_count": 13,
   "id": "626dbfa6",
   "metadata": {},
   "outputs": [
    {
     "data": {
      "image/png": "[encoded data removed]",
      "text/plain": [
       "<Figure size 720x504 with 1 Axes>"
      ]
     },
     "metadata": {
      "needs_background": "light"
     },
     "output_type": "display_data"
    }
   ],
   "source": [
    "plt.figure(figsize=(10, 7))\n",
    "plt.plot(np.arange(len(train_losses)), train_losses, label='Train')\n",
    "plt.plot(np.arange(len(val_losses)), val_losses, label='Validation')\n",
    "\n",
    "plt.xlabel('Epoch')\n",
    "plt.title('MSE loss')\n",
    "plt.legend()\n",
    "plt.show()"
   ]
  },
  {
   "cell_type": "markdown",
   "id": "a42e7230",
   "metadata": {},
   "source": [
    "Посмотрим, как модель предсказывает траектории"
   ]
  },
  {
   "cell_type": "code",
   "execution_count": 14,
   "id": "8629a9ea",
   "metadata": {},
   "outputs": [],
   "source": [
    "test_loader = DataLoader(train_dataset, batch_size=20, shuffle=False)\n",
    "\n",
    "model.eval()\n",
    "x_pred = []\n",
    "ground = []\n",
    "losses = []\n",
    "\n",
    "with torch.no_grad():\n",
    "    for x_batch, y_batch in test_loader:\n",
    "        pred = model(x_batch.to(device)).cpu().numpy()\n",
    "        x_pred.append(pred)\n",
    "        ground.append(y_batch)      \n",
    "        losses.append(np.mean(np.abs(pred - y_batch[:,2,:].numpy())))"
   ]
  },
  {
   "cell_type": "code",
   "execution_count": 15,
   "id": "e4d85166",
   "metadata": {},
   "outputs": [
    {
     "name": "stdout",
     "output_type": "stream",
     "text": [
      "torch.Size([20, 3, 50])\n"
     ]
    },
    {
     "data": {
      "image/png": "[encoded data removed]",
      "text/plain": [
       "<Figure size 432x288 with 1 Axes>"
      ]
     },
     "metadata": {
      "needs_background": "light"
     },
     "output_type": "display_data"
    }
   ],
   "source": [
    "for x, y in test_loader:\n",
    "    print(x.shape)\n",
    "    plt.plot(x[0,2,:])\n",
    "    break"
   ]
  },
  {
   "cell_type": "code",
   "execution_count": 16,
   "id": "a20e6abd",
   "metadata": {},
   "outputs": [],
   "source": [
    "gr = []\n",
    "predict = []\n",
    "for i in range(len(ground[0])):\n",
    "    a =ground[1][i][2]\n",
    "    b = x_pred[1][i]\n",
    "    gr.append(a)\n",
    "    predict.append(b)\n",
    "gr = torch.stack(gr)\n",
    "#print(gr)\n",
    "gr = torch.ravel(gr)\n",
    "pred = np.ravel(np.stack(predict))"
   ]
  },
  {
   "cell_type": "code",
   "execution_count": 17,
   "id": "a0221933",
   "metadata": {},
   "outputs": [
    {
     "data": {
      "text/plain": [
       "[<matplotlib.lines.Line2D at 0x2030b274c40>]"
      ]
     },
     "execution_count": 17,
     "metadata": {},
     "output_type": "execute_result"
    },
    {
     "data": {
      "image/png": "[encoded data removed]",
      "text/plain": [
       "<Figure size 432x288 with 1 Axes>"
      ]
     },
     "metadata": {
      "needs_background": "light"
     },
     "output_type": "display_data"
    }
   ],
   "source": [
    "plt.plot(pred)"
   ]
  },
  {
   "cell_type": "code",
   "execution_count": 18,
   "id": "fc19656b",
   "metadata": {
    "scrolled": true
   },
   "outputs": [
    {
     "data": {
      "image/png": "[encoded data removed]",
      "text/plain": [
       "<Figure size 1080x288 with 1 Axes>"
      ]
     },
     "metadata": {
      "needs_background": "light"
     },
     "output_type": "display_data"
    }
   ],
   "source": [
    "plt.figure(figsize=(15, 4))\n",
    "predict = x_pred[0]\n",
    "plt.plot(gr, label='Ground truth')\n",
    "plt.plot(pred, label='Predicted')\n",
    "\n",
    "plt.legend()\n",
    "plt.show()"
   ]
  }
 ],
 "metadata": {
  "kernelspec": {
   "display_name": "Python 3",
   "language": "python",
   "name": "python3"
  },
  "language_info": {
   "codemirror_mode": {
    "name": "ipython",
    "version": 3
   },
   "file_extension": ".py",
   "mimetype": "text/x-python",
   "name": "python",
   "nbconvert_exporter": "python",
   "pygments_lexer": "ipython3",
   "version": "3.8.8"
  }
 },
 "nbformat": 4,
 "nbformat_minor": 5
}
